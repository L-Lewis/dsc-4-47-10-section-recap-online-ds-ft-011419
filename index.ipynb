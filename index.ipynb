{
 "cells": [
  {
   "cell_type": "markdown",
   "metadata": {},
   "source": [
    "# Section Recap"
   ]
  },
  {
   "cell_type": "markdown",
   "metadata": {},
   "source": [
    "## Introduction\n",
    "\n",
    "This short lesson summarizes key takeaways from section 44."
   ]
  },
  {
   "cell_type": "markdown",
   "metadata": {},
   "source": [
    "## Objectives\n",
    "You will be able to:\n",
    "* Understand and explain what was covered in this section\n",
    "* Understand and explain why this section will help you become a data scientist"
   ]
  },
  {
   "cell_type": "markdown",
   "metadata": {},
   "source": [
    "## Key Takeaways\n",
    "\n",
    "The key takeaways from this section include:\n",
    "\n",
    "\n",
    "* Autoencoders are unsupervised neural networks that are useful in the context of data compression\n",
    "* Autoencoders are networks that have the same input and output, while compressing the input into a lower-dimensional code called the summary or \"representation\"\n",
    "* The compressed representation can be seen as a \"bottleneck\"\n",
    "* Except for being useful for compressing the input and reconstructing the output, the hidden layer in an autoencoder can also be useful to learn something useful about the hidden data\n",
    "* There are 4 AE Hyperparameters that we need to set before training an autoencoder: code size, number of layers, number of nodes per layer, and loss function\n",
    "* Just like with other neural networks, you can have simple, shallow autoencoders and deep autoencoders\n",
    "* Denoising Autoencoders (DAEs) are used to denoise input data and creating \"clean\" outputs\n",
    "* Convolutional Autoencoders combine the use cases of CNNs and autoencoders by providing solutions for image reconstruction and image colorization\n",
    "*"
   ]
  }
 ],
 "metadata": {
  "kernelspec": {
   "display_name": "Python 3",
   "language": "python",
   "name": "python3"
  },
  "language_info": {
   "codemirror_mode": {
    "name": "ipython",
    "version": 3
   },
   "file_extension": ".py",
   "mimetype": "text/x-python",
   "name": "python",
   "nbconvert_exporter": "python",
   "pygments_lexer": "ipython3",
   "version": "3.6.4"
  }
 },
 "nbformat": 4,
 "nbformat_minor": 2
}
